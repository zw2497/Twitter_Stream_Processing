{
 "cells": [
  {
   "cell_type": "markdown",
   "metadata": {
    "colab_type": "text",
    "id": "view-in-github"
   },
   "source": [
    "<a href=\"https://colab.research.google.com/github/zw2497/Twitter_Stream_Processing/blob/master/python_kafka.ipynb\" target=\"_parent\"><img src=\"https://colab.research.google.com/assets/colab-badge.svg\" alt=\"Open In Colab\"/></a>"
   ]
  },
  {
   "cell_type": "code",
   "execution_count": null,
   "metadata": {
    "colab": {
     "base_uri": "https://localhost:8080/",
     "height": 128
    },
    "colab_type": "code",
    "id": "UDKzWWF-O4t7",
    "outputId": "ddacc9fc-d1bb-4e8a-9204-5747e74c05e8"
   },
   "outputs": [],
   "source": [
    "!pip install kafka-python"
   ]
  },
  {
   "cell_type": "code",
   "execution_count": 1,
   "metadata": {
    "colab": {},
    "colab_type": "code",
    "id": "M3abzoZIEaKP"
   },
   "outputs": [],
   "source": [
    "from kafka import KafkaProducer\n",
    "from kafka.errors import KafkaError"
   ]
  },
  {
   "cell_type": "markdown",
   "metadata": {
    "colab_type": "text",
    "id": "SqtK8JY2EFxi"
   },
   "source": [
    "# kafka-python\n",
    "## Producer"
   ]
  },
  {
   "cell_type": "code",
   "execution_count": null,
   "metadata": {
    "colab": {},
    "colab_type": "code",
    "id": "lh14NBtcLPaB"
   },
   "outputs": [],
   "source": [
    "from kafka import KafkaProducer\n",
    "from json import dumps"
   ]
  },
  {
   "cell_type": "code",
   "execution_count": null,
   "metadata": {
    "colab": {},
    "colab_type": "code",
    "id": "uiiQzn9Ad5zD"
   },
   "outputs": [],
   "source": [
    "producer = KafkaProducer(bootstrap_servers=['35.243.144.79:9092'],\n",
    "                         value_serializer=lambda x: \n",
    "                         dumps(x).encode('utf-8'))"
   ]
  },
  {
   "cell_type": "code",
   "execution_count": null,
   "metadata": {
    "colab": {},
    "colab_type": "code",
    "id": "RrOOmJ4N1zA9"
   },
   "outputs": [],
   "source": [
    "for e in range(10):\n",
    "    data = {'number' : e + 50}\n",
    "    producer.send('numtest', value=data)"
   ]
  },
  {
   "cell_type": "code",
   "execution_count": null,
   "metadata": {
    "colab": {},
    "colab_type": "code",
    "id": "lucvFMXCKhai"
   },
   "outputs": [],
   "source": [
    "producer.close()"
   ]
  },
  {
   "cell_type": "markdown",
   "metadata": {
    "colab_type": "text",
    "id": "dlEbl8MhELhb"
   },
   "source": [
    "## Consumer"
   ]
  },
  {
   "cell_type": "code",
   "execution_count": 12,
   "metadata": {
    "colab": {},
    "colab_type": "code",
    "id": "YrDJzmIMe177"
   },
   "outputs": [],
   "source": [
    "from kafka import KafkaConsumer\n",
    "from json import loads"
   ]
  },
  {
   "cell_type": "code",
   "execution_count": 13,
   "metadata": {
    "colab": {},
    "colab_type": "code",
    "id": "XFnrQhIFgAx1"
   },
   "outputs": [],
   "source": [
    "consumer = KafkaConsumer(\n",
    "    'trend',\n",
    "     bootstrap_servers=['35.243.144.79:9092'],\n",
    "     auto_offset_reset='latest',\n",
    "     enable_auto_commit=False,\n",
    "     group_id='weqw7133e'\n",
    ")"
   ]
  },
  {
   "cell_type": "code",
   "execution_count": null,
   "metadata": {},
   "outputs": [],
   "source": [
    "for message in consumer:\n",
    "    key, value = message.key, message.value\n",
    "    print(key, value)"
   ]
  },
  {
   "cell_type": "markdown",
   "metadata": {},
   "source": [
    "### collect"
   ]
  },
  {
   "cell_type": "code",
   "execution_count": null,
   "metadata": {
    "colab": {},
    "colab_type": "code",
    "id": "BjZ0oyuRwe_s"
   },
   "outputs": [],
   "source": [
    "a = []\n",
    "for message in consumer:\n",
    "    key, value = message.key, message.value\n",
    "    a.append(value.decode().split())"
   ]
  },
  {
   "cell_type": "code",
   "execution_count": 4,
   "metadata": {},
   "outputs": [],
   "source": [
    "a.sort(key=lambda x: -int(x[1]))"
   ]
  },
  {
   "cell_type": "code",
   "execution_count": 5,
   "metadata": {},
   "outputs": [],
   "source": [
    "for i in a:\n",
    "    i[1] = int(i[1])"
   ]
  },
  {
   "cell_type": "code",
   "execution_count": 6,
   "metadata": {},
   "outputs": [],
   "source": [
    "import pandas as pd"
   ]
  },
  {
   "cell_type": "code",
   "execution_count": 7,
   "metadata": {},
   "outputs": [
    {
     "data": {
      "text/html": [
       "<div>\n",
       "<style scoped>\n",
       "    .dataframe tbody tr th:only-of-type {\n",
       "        vertical-align: middle;\n",
       "    }\n",
       "\n",
       "    .dataframe tbody tr th {\n",
       "        vertical-align: top;\n",
       "    }\n",
       "\n",
       "    .dataframe thead th {\n",
       "        text-align: right;\n",
       "    }\n",
       "</style>\n",
       "<table border=\"1\" class=\"dataframe\">\n",
       "  <thead>\n",
       "    <tr style=\"text-align: right;\">\n",
       "      <th></th>\n",
       "      <th>value</th>\n",
       "    </tr>\n",
       "    <tr>\n",
       "      <th>key</th>\n",
       "      <th></th>\n",
       "    </tr>\n",
       "  </thead>\n",
       "  <tbody>\n",
       "  </tbody>\n",
       "</table>\n",
       "</div>"
      ],
      "text/plain": [
       "Empty DataFrame\n",
       "Columns: [value]\n",
       "Index: []"
      ]
     },
     "execution_count": 7,
     "metadata": {},
     "output_type": "execute_result"
    }
   ],
   "source": [
    "pd.DataFrame(a, columns=['key','value']).groupby('key').max().sort_values(['value'], ascending=False)"
   ]
  },
  {
   "cell_type": "markdown",
   "metadata": {
    "colab_type": "text",
    "id": "BDlmfU0BszPc"
   },
   "source": [
    "## Batch Consumer\n",
    "> https://kafka-python.readthedocs.io/en/master/apidoc/KafkaConsumer.html"
   ]
  },
  {
   "cell_type": "code",
   "execution_count": null,
   "metadata": {
    "colab": {},
    "colab_type": "code",
    "id": "2rrhqLvISLdk"
   },
   "outputs": [],
   "source": [
    "consumer.poll(timeout_ms=10000, max_records=None)"
   ]
  },
  {
   "cell_type": "code",
   "execution_count": 10,
   "metadata": {},
   "outputs": [],
   "source": [
    "from kafka import KafkaConsumer\n",
    "from json import loads"
   ]
  },
  {
   "cell_type": "code",
   "execution_count": 11,
   "metadata": {},
   "outputs": [],
   "source": [
    "consumer = KafkaConsumer(\n",
    "    'tweepyv1',\n",
    "     bootstrap_servers=['35.243.144.79:9092'],\n",
    "     auto_offset_reset='earliest',\n",
    "     enable_auto_commit=False,\n",
    "     group_id='weqw3e'\n",
    ")"
   ]
  },
  {
   "cell_type": "code",
   "execution_count": 12,
   "metadata": {},
   "outputs": [],
   "source": [
    "a = []\n",
    "for message in consumer:\n",
    "    key, value = message.key, message.value\n",
    "    a.append(value.decode())\n",
    "    break"
   ]
  },
  {
   "cell_type": "code",
   "execution_count": 16,
   "metadata": {},
   "outputs": [
    {
     "data": {
      "text/plain": [
       "{'created_at': 'Sun Apr 28 19:48:51 +0000 2019',\n",
       " 'id': 1122588505987788800,\n",
       " 'id_str': '1122588505987788800',\n",
       " 'text': 'Fret slotting jig with fret slot template speeds things up quite a bit #cocobolo #fretboard #luthier… https://t.co/arHCs4R4nA',\n",
       " 'source': '<a href=\"http://instagram.com\" rel=\"nofollow\">Instagram</a>',\n",
       " 'truncated': True,\n",
       " 'in_reply_to_status_id': None,\n",
       " 'in_reply_to_status_id_str': None,\n",
       " 'in_reply_to_user_id': None,\n",
       " 'in_reply_to_user_id_str': None,\n",
       " 'in_reply_to_screen_name': None,\n",
       " 'user': {'id': 37266225,\n",
       "  'id_str': '37266225',\n",
       "  'name': '🇨🇦Casey Chymyshyn🇨🇦',\n",
       "  'screen_name': 'joe_rocket65',\n",
       "  'location': 'Winnipeg, MB Canada',\n",
       "  'url': None,\n",
       "  'description': 'Atheist. Beer lover/brewer. Father. Guitar owner/luthier/builder. Handyman. Motorcyclist. Nurse. Science nerd. Skeptic. Vaccines cause adults.',\n",
       "  'translator_type': 'none',\n",
       "  'protected': False,\n",
       "  'verified': False,\n",
       "  'followers_count': 905,\n",
       "  'friends_count': 1318,\n",
       "  'listed_count': 45,\n",
       "  'favourites_count': 5132,\n",
       "  'statuses_count': 20482,\n",
       "  'created_at': 'Sat May 02 19:41:51 +0000 2009',\n",
       "  'utc_offset': None,\n",
       "  'time_zone': None,\n",
       "  'geo_enabled': True,\n",
       "  'lang': 'en',\n",
       "  'contributors_enabled': False,\n",
       "  'is_translator': False,\n",
       "  'profile_background_color': '131516',\n",
       "  'profile_background_image_url': 'http://abs.twimg.com/images/themes/theme14/bg.gif',\n",
       "  'profile_background_image_url_https': 'https://abs.twimg.com/images/themes/theme14/bg.gif',\n",
       "  'profile_background_tile': True,\n",
       "  'profile_link_color': '009999',\n",
       "  'profile_sidebar_border_color': 'EEEEEE',\n",
       "  'profile_sidebar_fill_color': 'EFEFEF',\n",
       "  'profile_text_color': '333333',\n",
       "  'profile_use_background_image': True,\n",
       "  'profile_image_url': 'http://pbs.twimg.com/profile_images/1045844686362030080/SRddXFmU_normal.jpg',\n",
       "  'profile_image_url_https': 'https://pbs.twimg.com/profile_images/1045844686362030080/SRddXFmU_normal.jpg',\n",
       "  'profile_banner_url': 'https://pbs.twimg.com/profile_banners/37266225/1355546745',\n",
       "  'default_profile': False,\n",
       "  'default_profile_image': False,\n",
       "  'following': None,\n",
       "  'follow_request_sent': None,\n",
       "  'notifications': None},\n",
       " 'geo': {'type': 'Point', 'coordinates': [49.8873, -97.1397]},\n",
       " 'coordinates': {'type': 'Point', 'coordinates': [-97.1397, 49.8873]},\n",
       " 'place': {'id': '0811cf61cd9ea52f',\n",
       "  'url': 'https://api.twitter.com/1.1/geo/id/0811cf61cd9ea52f.json',\n",
       "  'place_type': 'city',\n",
       "  'name': 'Winnipeg',\n",
       "  'full_name': 'Winnipeg, Manitoba',\n",
       "  'country_code': 'CA',\n",
       "  'country': 'Canada',\n",
       "  'bounding_box': {'type': 'Polygon',\n",
       "   'coordinates': [[[-97.350366, 49.713679],\n",
       "     [-97.350366, 49.993932],\n",
       "     [-96.954987, 49.993932],\n",
       "     [-96.954987, 49.713679]]]},\n",
       "  'attributes': {}},\n",
       " 'contributors': None,\n",
       " 'is_quote_status': False,\n",
       " 'extended_tweet': {'full_text': 'Fret slotting jig with fret slot template speeds things up quite a bit #cocobolo #fretboard #luthier #electricguitar #customguitar @ Winnipeg, Manitoba https://t.co/mqvzzJaecH',\n",
       "  'display_text_range': [0, 175],\n",
       "  'entities': {'hashtags': [{'text': 'cocobolo', 'indices': [71, 80]},\n",
       "    {'text': 'fretboard', 'indices': [81, 91]},\n",
       "    {'text': 'luthier', 'indices': [92, 100]},\n",
       "    {'text': 'electricguitar', 'indices': [101, 116]},\n",
       "    {'text': 'customguitar', 'indices': [117, 130]}],\n",
       "   'urls': [{'url': 'https://t.co/mqvzzJaecH',\n",
       "     'expanded_url': 'https://www.instagram.com/p/Bwz70JYgtPU/?utm_source=ig_twitter_share&igshid=anv6s8l98hhq',\n",
       "     'display_url': 'instagram.com/p/Bwz70JYgtPU/…',\n",
       "     'indices': [152, 175]}],\n",
       "   'user_mentions': [],\n",
       "   'symbols': []}},\n",
       " 'quote_count': 0,\n",
       " 'reply_count': 0,\n",
       " 'retweet_count': 0,\n",
       " 'favorite_count': 0,\n",
       " 'entities': {'hashtags': [{'text': 'cocobolo', 'indices': [71, 80]},\n",
       "   {'text': 'fretboard', 'indices': [81, 91]},\n",
       "   {'text': 'luthier', 'indices': [92, 100]}],\n",
       "  'urls': [{'url': 'https://t.co/arHCs4R4nA',\n",
       "    'expanded_url': 'https://twitter.com/i/web/status/1122588505987788800',\n",
       "    'display_url': 'twitter.com/i/web/status/1…',\n",
       "    'indices': [102, 125]}],\n",
       "  'user_mentions': [],\n",
       "  'symbols': []},\n",
       " 'favorited': False,\n",
       " 'retweeted': False,\n",
       " 'possibly_sensitive': False,\n",
       " 'filter_level': 'low',\n",
       " 'lang': 'en',\n",
       " 'timestamp_ms': '1556480931170'}"
      ]
     },
     "execution_count": 16,
     "metadata": {},
     "output_type": "execute_result"
    }
   ],
   "source": [
    "loads(a[0])"
   ]
  },
  {
   "cell_type": "code",
   "execution_count": null,
   "metadata": {},
   "outputs": [],
   "source": []
  }
 ],
 "metadata": {
  "colab": {
   "include_colab_link": true,
   "name": "python_kafka.ipynb",
   "provenance": [],
   "version": "0.3.2"
  },
  "kernelspec": {
   "display_name": "Python 3",
   "language": "python",
   "name": "python3"
  },
  "language_info": {
   "codemirror_mode": {
    "name": "ipython",
    "version": 3
   },
   "file_extension": ".py",
   "mimetype": "text/x-python",
   "name": "python",
   "nbconvert_exporter": "python",
   "pygments_lexer": "ipython3",
   "version": "3.7.3"
  }
 },
 "nbformat": 4,
 "nbformat_minor": 2
}
