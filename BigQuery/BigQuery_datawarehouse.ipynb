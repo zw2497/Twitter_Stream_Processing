{
  "nbformat": 4,
  "nbformat_minor": 0,
  "metadata": {
    "colab": {
      "name": "Copy of Copy of Getting started with BigQuery",
      "version": "0.3.2",
      "provenance": [],
      "collapsed_sections": [
        "HeZN5bOEl2iI"
      ],
      "include_colab_link": true
    },
    "kernelspec": {
      "display_name": "Python 3",
      "name": "python3"
    }
  },
  "cells": [
    {
      "cell_type": "markdown",
      "metadata": {
        "id": "view-in-github",
        "colab_type": "text"
      },
      "source": [
        "<a href=\"https://colab.research.google.com/github/zw2497/Twitter_Stream_Processing/blob/master/BigQuery_datawarehouse.ipynb\" target=\"_parent\"><img src=\"https://colab.research.google.com/assets/colab-badge.svg\" alt=\"Open In Colab\"/></a>"
      ]
    },
    {
      "cell_type": "code",
      "metadata": {
        "id": "tHpHJbHQZlnK",
        "colab_type": "code",
        "outputId": "95a05808-ab10-4b79-9c3c-41a4cb49fa4d",
        "colab": {
          "base_uri": "https://localhost:8080/",
          "height": 33
        }
      },
      "source": [
        "!pip install kafka-python"
      ],
      "execution_count": 26,
      "outputs": [
        {
          "output_type": "stream",
          "text": [
            "Requirement already satisfied: kafka-python in /usr/local/lib/python3.6/dist-packages (1.4.6)\n"
          ],
          "name": "stdout"
        }
      ]
    },
    {
      "cell_type": "code",
      "metadata": {
        "colab_type": "code",
        "id": "FFSD5VCneJA_",
        "outputId": "5edb1450-4451-4382-de97-0ae3013a31ac",
        "colab": {
          "base_uri": "https://localhost:8080/",
          "height": 33
        }
      },
      "source": [
        "from google.colab import auth\n",
        "auth.authenticate_user()\n",
        "print(\"authorized\")"
      ],
      "execution_count": 27,
      "outputs": [
        {
          "output_type": "stream",
          "text": [
            "authorized\n"
          ],
          "name": "stdout"
        }
      ]
    },
    {
      "cell_type": "code",
      "metadata": {
        "id": "5herT4eCZ7Ew",
        "colab_type": "code",
        "colab": {}
      },
      "source": [
        "from kafka import KafkaProducer, KafkaConsumer\n",
        "from kafka.errors import KafkaError\n",
        "from json import dumps, loads\n",
        "import time\n",
        "from google.cloud import bigquery\n",
        "project_id = 'e6820-235222'\n",
        "client = bigquery.Client(project=project_id)"
      ],
      "execution_count": 0,
      "outputs": []
    },
    {
      "cell_type": "code",
      "metadata": {
        "id": "5SIOOO4hZE9Q",
        "colab_type": "code",
        "colab": {}
      },
      "source": [
        "consumer = KafkaConsumer(\n",
        "    'tweepyv1',\n",
        "     bootstrap_servers=['35.243.144.79:9092'],\n",
        "     auto_offset_reset='earliest',\n",
        "     enable_auto_commit=True,\n",
        "     group_id='my-gu333',\n",
        "     value_deserializer=lambda x: loads(x.decode('utf-8')))\n",
        "def make_unicode(input):\n",
        "    if type(input) != unicode:\n",
        "        input =  input.decode('utf-8')\n",
        "        return input\n",
        "    else:\n",
        "        return input"
      ],
      "execution_count": 0,
      "outputs": []
    },
    {
      "cell_type": "code",
      "metadata": {
        "id": "Utz57h705Ahp",
        "colab_type": "code",
        "outputId": "eceac4a3-42a7-4991-dad1-bee5b82dada4",
        "colab": {
          "base_uri": "https://localhost:8080/",
          "height": 31
        }
      },
      "source": [
        "%%bigquery --project e6820-235222 df\n",
        "create table warehouse.tweet_full6(\n",
        "created_at timestamp,\n",
        "entities_hastages string,\n",
        "favorite_count int64,\n",
        "id int64,\n",
        "id_str string,\n",
        "lang string,\n",
        "place_country string,\n",
        "place_country_code string,\n",
        "place_name string,\n",
        "quote_count int64,\n",
        "quoted_status_entities_hashtages string,\n",
        "quoted_status_extended_tweet_entites_hashtags string,\n",
        "quoted_status_extended_tweet_full_text string,\n",
        "quoted_status_favorite_count int64,\n",
        "quoted_status_id_str string,\n",
        "reply_count int64,\n",
        "retweet_count int64,\n",
        "text string,\n",
        "timestamp_ms string,\n",
        "user_created_at string,\n",
        "user_description string,\n",
        "user_favourites_count int64,\n",
        "user_followers_count int64,\n",
        "user_id int64,\n",
        "user_id_str string,\n",
        "user_listed_count int64,\n",
        "user_location string,\n",
        "user_name string,\n",
        "latitude string,\n",
        "longitude string\n",
        ")"
      ],
      "execution_count": 68,
      "outputs": [
        {
          "output_type": "execute_result",
          "data": {
            "text/html": [
              "<div>\n",
              "<style scoped>\n",
              "    .dataframe tbody tr th:only-of-type {\n",
              "        vertical-align: middle;\n",
              "    }\n",
              "\n",
              "    .dataframe tbody tr th {\n",
              "        vertical-align: top;\n",
              "    }\n",
              "\n",
              "    .dataframe thead th {\n",
              "        text-align: right;\n",
              "    }\n",
              "</style>\n",
              "<table border=\"1\" class=\"dataframe\">\n",
              "  <thead>\n",
              "    <tr style=\"text-align: right;\">\n",
              "      <th></th>\n",
              "    </tr>\n",
              "  </thead>\n",
              "  <tbody>\n",
              "  </tbody>\n",
              "</table>\n",
              "</div>"
            ],
            "text/plain": [
              "Empty DataFrame\n",
              "Columns: []\n",
              "Index: []"
            ]
          },
          "metadata": {
            "tags": []
          },
          "execution_count": 68
        }
      ]
    },
    {
      "cell_type": "code",
      "metadata": {
        "id": "x6Da-juoa6Wf",
        "colab_type": "code",
        "colab": {}
      },
      "source": [
        "def switch_month(argument):\n",
        "    switcher = {\n",
        "        \"Jan\":'1',\n",
        "        \"Feb\":'2',\n",
        "        \"Mar\":'3',\n",
        "        \"Apr\":'4',\n",
        "        \"May\":'5',\n",
        "        \"Jun\":'6',\n",
        "        \"Jul\":'7',\n",
        "        \"Aug\":'8',\n",
        "        \"Sep\":'9',\n",
        "        \"Oct\":'10',\n",
        "        \"Nov\":'11',\n",
        "        \"Dec\":'12'\n",
        "    }\n",
        "    return switcher.get(argument, \"Invalid month\")"
      ],
      "execution_count": 0,
      "outputs": []
    },
    {
      "cell_type": "code",
      "metadata": {
        "id": "aD5LpVQr-hun",
        "colab_type": "code",
        "outputId": "cc8b6678-388b-4e65-dd40-57dea5623125",
        "colab": {
          "base_uri": "https://localhost:8080/",
          "height": 1372
        }
      },
      "source": [
        "for line in consumer:\n",
        "    \n",
        "  entities_hastages = []\n",
        "  for a in res[-6]['entities']['hashtags']:\n",
        "    entities_hastages.append(a['text'])\n",
        "#   if entities_hastages == []:\n",
        "  entities_hastages = str(entities_hastages)\n",
        "  \n",
        "  res = loads(dumps(line))\n",
        "  favorite_count = int(res[-6]['favorite_count'])\n",
        "  id = res[-6]['id']\n",
        "  quote_count= res[-6]['quote_count'] \n",
        "  reply_count = res[-6]['reply_count']\n",
        "  retweet_count = res[-6]['retweet_count']\n",
        "  user_favourites_count = res[-6]['user']['favourites_count'] \n",
        "  user_followers_count =  res[-6]['user']['followers_count']\n",
        "  user_id =res[-6]['user']['id']\n",
        "  user_listed_count =  res[-6]['user']['listed_count']\n",
        "  \n",
        "  created_at = str(res[-6]['created_at'])\n",
        "  tmp = created_at.split(\" \")\n",
        "  created_at_ = tmp[5]+ \"-\" + switch_month(tmp[1]) + \"-\" + tmp[2] + \" \" +tmp[3]\n",
        "  \n",
        "  id_str = str(res[-6]['id'])\n",
        "  lang = str(res[-6]['lang'])\n",
        "  place_country = str(res[-6]['place']['country'])\n",
        "  place_country_code = str(res[-6]['place']['country_code'])\n",
        "  place_name = str(res[-6]['place']['name'])\n",
        "#   quoted_status_entities_hashtages = str(res[-6]['quoted_status']['entities']['hashtages'])\n",
        "#   extended_tweet_entites_hashtags = str(res[-6]['extended_tweet']['entities']['hashtags'])\n",
        "#   extended_tweet_full_text = str(res[-6]['extended_tweet']['full_text'])\n",
        "#   extended_tweet_id_str = str(res[-6]['extended_tweet']['id_str'])\n",
        "  text = str(res[-6]['text'])\n",
        "  timestamp_ms = str(res[-6]['timestamp_ms'])\n",
        "  user_created_at = str(res[-6]['user']['created_at'])\n",
        "  user_description = str(res[-6]['user']['description'])\n",
        "  user_id_str = str(res[-6]['user']['id_str'])\n",
        "  user_location = str(res[-6]['user']['location'])\n",
        "  user_name = str(res[-6]['user']['name'])\n",
        "  latitude = str(res[-6]['place']['bounding_box']['coordinates'][0][0][0])\n",
        "  longitude = str(res[-6]['place']['bounding_box']['coordinates'][0][0][1])\n",
        "#   print(created_at, entities_hastages, id_str, lang, place_country, place_country_code, place_name,  \\\n",
        "#           text, timestamp_ms, user_created_at, user_description, user_id_str, user_location, user_name)\n",
        "#   print(favorite_count, id, quote_count, reply_count, \\\n",
        "#   retweet_count, user_favourites_count, user_followers_count, user_id, user_listed_count)\n",
        "\n",
        "  query_job = \"INSERT warehouse.tweet_full6 (favorite_count, id, quote_count, reply_count, \\\n",
        "  retweet_count, user_favourites_count, user_followers_count, user_id, user_listed_count, created_at, entities_hastages, id_str, lang, place_country, place_country_code, place_name, \\\n",
        "          text, timestamp_ms, user_created_at, user_description, user_id_str, user_location, user_name, latitude, longitude) \\\n",
        "  VALUES ({}, {}, {}, {}, {}, {}, {}, {}, {}\".format(favorite_count, id, quote_count, reply_count, \\\n",
        "  retweet_count, user_favourites_count, user_followers_count, user_id, user_listed_count) + \", '\"+ created_at_ + \"', \\\"\"+ entities_hastages+ \"\\\", '\"+ id_str+ \"', '\"+ lang+ \"', '\"+ place_country+ \"', '\"+ place_country_code+ \"', '\"+ place_name+ \"', '\"+  \\\n",
        "          text+ \"', '\"+ timestamp_ms+ \"', '\"+ user_created_at+ \"', '\"+ user_description+ \"', '\"+ user_id_str+ \"', '\"+ user_location+ \"', '\"+ user_name+ \"','\" +latitude + \"','\"+longitude +\"')\"\n",
        "#   query_job = \"INSERT into warehouse.tweet_full3 (entities_hastages) VALUES ('\"+a +\"')\"\n",
        "\n",
        "  client.query(\n",
        "      query_job,\n",
        "  )"
      ],
      "execution_count": 0,
      "outputs": [
        {
          "output_type": "stream",
          "text": [
            "[] -88.473228 30.144425\n",
            "['AlreadyBeen', 'AvengersEndgame'] -71.01249 42.694927\n",
            "['GameofThrones'] -76.902529 38.825445\n",
            "[] -81.395067 40.374291\n",
            "[] -77.119401 38.801826\n",
            "[] -97.51982 35.15327\n",
            "[] -91.161353 41.35847\n",
            "[] -92.734385 32.50363\n",
            "[] -75.548035 40.547616\n",
            "[] -79.639319 43.403221\n",
            "[] -115.316075 35.960753\n",
            "[] -114.316038 50.84278\n",
            "[] -124.482003 32.528832\n",
            "[] -118.668404 33.704538\n",
            "[] -81.240943 42.743002\n",
            "[] -112.323914 33.29026\n",
            "[] -83.697158 42.851374\n",
            "[] -124.703541 41.991795\n",
            "[] -117.86894 33.606077\n",
            "[] -113.71368 53.395531\n",
            "[] -73.938935 43.003668\n",
            "[] -112.62655 33.355798\n",
            "[] -90.418108 41.696088\n",
            "[] -112.323914 33.29026\n",
            "[] -87.721811 34.77898\n",
            "[] -122.461455 49.002189\n",
            "[] -90.782468 35.763136\n",
            "[] -97.993537 29.840708\n",
            "[] -118.668404 33.704538\n",
            "['AvergersEndgame'] -96.015096 30.061706\n",
            "[] -115.384091 36.129459\n",
            "[] -84.561205 33.788139\n",
            "[] -87.022482 35.994568\n",
            "['AryaStark', 'GameofThronesSpoilers', 'GameofThrones'] -90.185267 38.686586\n",
            "[] -87.940033 41.644102\n",
            "[] -95.823268 29.522325\n",
            "[] -95.774704 35.995476\n",
            "['norolemodelz'] -74.041878 40.570842\n",
            "[] -115.209254 35.984784\n",
            "[] -87.634643 24.396308\n",
            "[] -122.326451 47.203736\n",
            "[] -95.600652 30.643296\n",
            "[] -74.73192 40.91253\n",
            "[] -85.605166 30.355644\n",
            "[] -73.984572 40.899734\n",
            "[] -118.829753 34.222878\n",
            "[] -119.64712 36.553354\n",
            "[] -95.823268 29.522325\n",
            "[] -118.668404 33.704538\n",
            "['gameofthrones', 'LadyMormont'] -77.601044 37.447046\n",
            "['CTEconfirmed', 'GOT'] -97.530941 28.021487\n",
            "[] -118.017789 33.788913\n",
            "[] -97.662618 27.578509\n",
            "[] -94.61771 33.004106\n",
            "[] -118.668404 33.704538\n",
            "[] -86.967333 33.405025\n",
            "[] -86.418059 32.284593\n",
            "[] -122.790065 45.421863\n",
            "[] -89.571643 34.321375\n",
            "[] -90.135782 34.994192\n",
            "[] -87.940033 41.644102\n",
            "[] -97.80185 26.135158\n",
            "[] -92.734385 32.50363\n",
            "[] -86.967333 33.405025\n",
            "[] -111.083219 32.057802\n",
            "[] -85.605166 30.355644\n",
            "[] -96.37703 30.520359\n",
            "[] -178.443593 18.86546\n",
            "[] -73.933612 40.785365\n",
            "[] -122.514926 37.708075\n",
            "[] -79.76259 40.477383\n",
            "[] -98.778559 29.141956\n",
            "[] -83.200169 39.832013\n",
            "[] -118.668404 33.704538\n",
            "[] -73.729201 40.686184\n",
            "['GameofThrones', 'BattleForWinterfell', 'LyannaMormont'] -90.137908 29.889574\n",
            "[] -82.715072 28.273282\n",
            "[] -87.634643 24.396308\n",
            "[] -87.685028 41.579028\n",
            "[] -115.209254 35.984784\n",
            "[] -77.274342 38.86503\n"
          ],
          "name": "stdout"
        }
      ]
    },
    {
      "cell_type": "code",
      "metadata": {
        "id": "v3PMfy0f-y5L",
        "colab_type": "code",
        "colab": {}
      },
      "source": [
        "import uuid\n",
        "def stream_data(self, table, data, schema):\n",
        "    # first checks if table already exists. If it doesn't, then create it\n",
        "    r = self.service.tables().list(projectId=your_project_id,\n",
        "                                     datasetId=your_dataset_id).execute()\n",
        "    table_exists = [row['tableReference']['tableId'] for row in\n",
        "                    r['tables'] if\n",
        "                    row['tableReference']['tableId'] == table]\n",
        "    if not table_exists:\n",
        "        body = {\n",
        "            'tableReference': {\n",
        "                'tableId': table,\n",
        "                'projectId': your_project_id,\n",
        "                'datasetId': your_dataset_id\n",
        "            },\n",
        "            'schema': schema\n",
        "        }\n",
        "        self.service.tables().insert(projectId=your_project_id,\n",
        "                                     datasetId=your_dataset_id,\n",
        "                                     body=body).execute()\n",
        "\n",
        "    # with table created, now we can stream the data\n",
        "    # to do so we'll use the tabledata().insertall() function.\n",
        "    body = {\n",
        "        'rows': [\n",
        "            {\n",
        "                'json': data,\n",
        "                'insertId': str(uuid.uuid4())\n",
        "            }\n",
        "        ]\n",
        "    }\n",
        "    self.service.tabledata().insertAll(projectId=your_project_id),\n",
        "                                       datasetId=your_dataset_id,\n",
        "                                       tableId=table,\n",
        "                                         body=body).execute(num_retries=5)"
      ],
      "execution_count": 0,
      "outputs": []
    },
    {
      "cell_type": "code",
      "metadata": {
        "id": "JwbHvc3nd65E",
        "colab_type": "code",
        "colab": {}
      },
      "source": [
        "message = consumer.poll(timeout_ms=10000, max_records=1)\n",
        "for key in message.keys():\n",
        "  if type(key) is not str:\n",
        "    try:\n",
        "      message[str(key)] = message[key]\n",
        "    except:\n",
        "      try:\n",
        "        message[repr(key)] =messagemydict[key]\n",
        "      except:\n",
        "        pass\n",
        "    del message[key]\n",
        "    \n",
        "a =loads(dumps(message))[\"TopicPartition(topic='tweepyv1', partition=0)\"][-1][-6]\n",
        "# print(type(loads(dumps(message))[\"TopicPartition(topic='tweepyv1', partition=0)\"][-1][-6]))"
      ],
      "execution_count": 0,
      "outputs": []
    },
    {
      "cell_type": "code",
      "metadata": {
        "id": "h8yZhCZTrlTw",
        "colab_type": "code",
        "colab": {
          "base_uri": "https://localhost:8080/",
          "height": 50
        },
        "outputId": "2d1d7a0d-6b6d-4313-b2ea-edeab3c49b6b"
      },
      "source": [
        "# client.insert_rows(\"`warehouse.tweet`\", str(string), [('tweets','STRING')])\n",
        "\n",
        "# print(loads(dumps(message)))\n",
        "query_params = [bigquery.ScalarQueryParameter('tweets', 'STRING', 'message{}'.format(1))]\n",
        "queryjob = \"INSERT warehouse.tweet_info (full_text) VALUES (\\\"\"+a +\"\\\")\"\n",
        "print(queryjob)\n",
        "job_config = bigquery.QueryJobConfig()\n",
        "job_config.query_parameters = query_params\n",
        "client.query(\n",
        "    queryjob,\n",
        "    job_config=job_config\n",
        ")\n"
      ],
      "execution_count": 19,
      "outputs": [
        {
          "output_type": "stream",
          "text": [
            "INSERT warehouse.tweet_info (full_text) VALUES (\"['GameOfThornes', 'nottoday']\")\n"
          ],
          "name": "stdout"
        },
        {
          "output_type": "execute_result",
          "data": {
            "text/plain": [
              "<google.cloud.bigquery.job.QueryJob at 0x7fd52c176ac8>"
            ]
          },
          "metadata": {
            "tags": []
          },
          "execution_count": 19
        }
      ]
    },
    {
      "cell_type": "code",
      "metadata": {
        "id": "Q3BMwXwJVqQU",
        "colab_type": "code",
        "colab": {}
      },
      "source": [
        "for message in consumer:\n",
        "    key, value = message.key, message.value\n",
        "#     value.decode()\n",
        "    print(key)"
      ],
      "execution_count": 0,
      "outputs": []
    },
    {
      "cell_type": "code",
      "metadata": {
        "id": "r2jkbdn4deln",
        "colab_type": "code",
        "colab": {
          "base_uri": "https://localhost:8080/",
          "height": 33
        },
        "outputId": "e608b4f5-4d7d-4eae-e91c-6696362dec6e"
      },
      "source": [
        "a = \"['GameOfThornes', 'nottoday']\"\n",
        "print(type(a))"
      ],
      "execution_count": 15,
      "outputs": [
        {
          "output_type": "stream",
          "text": [
            "<class 'str'>\n"
          ],
          "name": "stdout"
        }
      ]
    },
    {
      "cell_type": "code",
      "metadata": {
        "id": "ayMM8maBsifJ",
        "colab_type": "code",
        "colab": {
          "base_uri": "https://localhost:8080/",
          "height": 33
        },
        "outputId": "85ad9e6d-d535-43d8-9c00-6a2b0d1f02c8"
      },
      "source": [
        "a = 'Mon Apr 29 04:45:26 +0000 2019'\n",
        "a = a.split(\" \")\n",
        "timest = a[5]+ \"-\" + switch_month(a[1]) + \"-\" + a[2] + \" \" +a[3]"
      ],
      "execution_count": 66,
      "outputs": [
        {
          "output_type": "stream",
          "text": [
            "2019-4-29 04:45:26\n"
          ],
          "name": "stdout"
        }
      ]
    },
    {
      "cell_type": "code",
      "metadata": {
        "id": "1wPdBStBW4lQ",
        "colab_type": "code",
        "colab": {}
      },
      "source": [
        ""
      ],
      "execution_count": 0,
      "outputs": []
    },
    {
      "cell_type": "code",
      "metadata": {
        "id": "vx3d3UynX0-c",
        "colab_type": "code",
        "colab": {
          "base_uri": "https://localhost:8080/",
          "height": 33
        },
        "outputId": "a7478c5f-3773-4178-fd8d-0934184d9bfc"
      },
      "source": [
        ""
      ],
      "execution_count": 64,
      "outputs": [
        {
          "output_type": "execute_result",
          "data": {
            "text/plain": [
              "'1'"
            ]
          },
          "metadata": {
            "tags": []
          },
          "execution_count": 64
        }
      ]
    },
    {
      "cell_type": "code",
      "metadata": {
        "id": "KsSCPxH2X8hA",
        "colab_type": "code",
        "colab": {}
      },
      "source": [
        ""
      ],
      "execution_count": 0,
      "outputs": []
    }
  ]
}